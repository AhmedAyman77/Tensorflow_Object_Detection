{
 "cells": [
  {
   "cell_type": "markdown",
   "metadata": {},
   "source": [
    "# 1. Import Dependencies"
   ]
  },
  {
   "cell_type": "code",
   "execution_count": 3,
   "metadata": {},
   "outputs": [
    {
     "name": "stdout",
     "output_type": "stream",
     "text": [
      "/home/ahmedcr7/Programming/Python/AI_Projects/Tensorflow_Object_Detection/TFODCourse/env/bin/pip: 2: exec: /home/ahmedcr7/Programming/Python/AI/computer vision/Tensorflow_Object_Detection/TFODCourse/env/bin/python: not found\n"
     ]
    }
   ],
   "source": [
    "!pip install opencv-python"
   ]
  },
  {
   "cell_type": "code",
   "execution_count": 2,
   "metadata": {},
   "outputs": [],
   "source": [
    "import cv2 \n",
    "import uuid\n",
    "import os\n",
    "import time"
   ]
  },
  {
   "cell_type": "markdown",
   "metadata": {},
   "source": [
    "# 2. Define Images to Collect"
   ]
  },
  {
   "cell_type": "code",
   "execution_count": 3,
   "metadata": {},
   "outputs": [],
   "source": [
    "labels = ['thumbsup', 'thumbsdown', 'thankyou', 'livelong']\n",
    "number_imgs = 20"
   ]
  },
  {
   "cell_type": "markdown",
   "metadata": {},
   "source": [
    "# 3. Setup Folders "
   ]
  },
  {
   "cell_type": "code",
   "execution_count": 4,
   "metadata": {},
   "outputs": [],
   "source": [
    "IMAGES_PATH = os.path.join('Tensorflow', 'workspace', 'images', 'collectedimages')"
   ]
  },
  {
   "cell_type": "code",
   "execution_count": 6,
   "metadata": {},
   "outputs": [],
   "source": [
    "if not os.path.exists(IMAGES_PATH):\n",
    "    os.mkdir(IMAGES_PATH)\n",
    "\n",
    "for label in labels:\n",
    "    PATH = os.path.join(IMAGES_PATH, label)\n",
    "    if not os.path.exists(PATH):\n",
    "        os.mkdir(PATH)"
   ]
  },
  {
   "cell_type": "markdown",
   "metadata": {},
   "source": [
    "# 4. Capture Images"
   ]
  },
  {
   "cell_type": "code",
   "execution_count": 6,
   "metadata": {},
   "outputs": [
    {
     "name": "stderr",
     "output_type": "stream",
     "text": [
      "qt.qpa.plugin: Could not find the Qt platform plugin \"wayland\" in \"/home/ahmedcr7/Programming/Python/AI_Projects/Tensorflow_Object_Detection/TFODCourse/env/lib/python3.11/site-packages/cv2/qt/plugins\"\n"
     ]
    },
    {
     "name": "stdout",
     "output_type": "stream",
     "text": [
      "Collecting images for thumbsup\n",
      "Image #1 for label \"thumbsup\" has been created successfully.\n",
      "Image #2 for label \"thumbsup\" has been created successfully.\n",
      "Image #3 for label \"thumbsup\" has been created successfully.\n",
      "Image #4 for label \"thumbsup\" has been created successfully.\n",
      "Image #5 for label \"thumbsup\" has been created successfully.\n",
      "Image #6 for label \"thumbsup\" has been created successfully.\n",
      "Image #7 for label \"thumbsup\" has been created successfully.\n",
      "Image #8 for label \"thumbsup\" has been created successfully.\n",
      "Image #9 for label \"thumbsup\" has been created successfully.\n",
      "Image #10 for label \"thumbsup\" has been created successfully.\n",
      "Image #11 for label \"thumbsup\" has been created successfully.\n",
      "Image #12 for label \"thumbsup\" has been created successfully.\n",
      "Image #13 for label \"thumbsup\" has been created successfully.\n",
      "Image #14 for label \"thumbsup\" has been created successfully.\n",
      "Image #15 for label \"thumbsup\" has been created successfully.\n",
      "Image #16 for label \"thumbsup\" has been created successfully.\n",
      "Image #17 for label \"thumbsup\" has been created successfully.\n",
      "Image #18 for label \"thumbsup\" has been created successfully.\n",
      "Image #19 for label \"thumbsup\" has been created successfully.\n",
      "Image #0 for label \"thumbsdown\" has been created successfully.\n",
      "Collecting images for thumbsdown\n",
      "Image #1 for label \"thumbsdown\" has been created successfully.\n",
      "Image #2 for label \"thumbsdown\" has been created successfully.\n",
      "Image #3 for label \"thumbsdown\" has been created successfully.\n",
      "Image #4 for label \"thumbsdown\" has been created successfully.\n",
      "Image #5 for label \"thumbsdown\" has been created successfully.\n",
      "Image #6 for label \"thumbsdown\" has been created successfully.\n",
      "Image #7 for label \"thumbsdown\" has been created successfully.\n",
      "Image #8 for label \"thumbsdown\" has been created successfully.\n",
      "Image #9 for label \"thumbsdown\" has been created successfully.\n",
      "Image #10 for label \"thumbsdown\" has been created successfully.\n",
      "Image #11 for label \"thumbsdown\" has been created successfully.\n",
      "Image #12 for label \"thumbsdown\" has been created successfully.\n",
      "Image #13 for label \"thumbsdown\" has been created successfully.\n",
      "Image #14 for label \"thumbsdown\" has been created successfully.\n",
      "Image #15 for label \"thumbsdown\" has been created successfully.\n",
      "Image #16 for label \"thumbsdown\" has been created successfully.\n",
      "Image #17 for label \"thumbsdown\" has been created successfully.\n",
      "Image #18 for label \"thumbsdown\" has been created successfully.\n",
      "Image #19 for label \"thumbsdown\" has been created successfully.\n",
      "Image #0 for label \"thankyou\" has been created successfully.\n",
      "Collecting images for thankyou\n",
      "Image #1 for label \"thankyou\" has been created successfully.\n",
      "Image #2 for label \"thankyou\" has been created successfully.\n",
      "Image #3 for label \"thankyou\" has been created successfully.\n",
      "Image #4 for label \"thankyou\" has been created successfully.\n",
      "Image #5 for label \"thankyou\" has been created successfully.\n",
      "Image #6 for label \"thankyou\" has been created successfully.\n",
      "Image #7 for label \"thankyou\" has been created successfully.\n",
      "Image #8 for label \"thankyou\" has been created successfully.\n",
      "Image #9 for label \"thankyou\" has been created successfully.\n",
      "Image #10 for label \"thankyou\" has been created successfully.\n",
      "Image #11 for label \"thankyou\" has been created successfully.\n",
      "Image #12 for label \"thankyou\" has been created successfully.\n",
      "Image #13 for label \"thankyou\" has been created successfully.\n",
      "Image #14 for label \"thankyou\" has been created successfully.\n",
      "Image #15 for label \"thankyou\" has been created successfully.\n",
      "Image #16 for label \"thankyou\" has been created successfully.\n",
      "Image #17 for label \"thankyou\" has been created successfully.\n",
      "Image #18 for label \"thankyou\" has been created successfully.\n",
      "Image #19 for label \"thankyou\" has been created successfully.\n",
      "Image #0 for label \"livelong\" has been created successfully.\n",
      "Collecting images for livelong\n",
      "Image #1 for label \"livelong\" has been created successfully.\n",
      "Image #2 for label \"livelong\" has been created successfully.\n",
      "Image #3 for label \"livelong\" has been created successfully.\n",
      "Image #4 for label \"livelong\" has been created successfully.\n",
      "Image #5 for label \"livelong\" has been created successfully.\n",
      "Image #6 for label \"livelong\" has been created successfully.\n",
      "Image #7 for label \"livelong\" has been created successfully.\n",
      "Image #8 for label \"livelong\" has been created successfully.\n",
      "Image #9 for label \"livelong\" has been created successfully.\n",
      "Image #10 for label \"livelong\" has been created successfully.\n",
      "Image #11 for label \"livelong\" has been created successfully.\n",
      "Image #12 for label \"livelong\" has been created successfully.\n",
      "Image #13 for label \"livelong\" has been created successfully.\n",
      "Image #14 for label \"livelong\" has been created successfully.\n",
      "Image #15 for label \"livelong\" has been created successfully.\n",
      "Image #16 for label \"livelong\" has been created successfully.\n",
      "Image #17 for label \"livelong\" has been created successfully.\n",
      "Image #18 for label \"livelong\" has been created successfully.\n",
      "Image #19 for label \"livelong\" has been created successfully.\n"
     ]
    },
    {
     "ename": "IndexError",
     "evalue": "list index out of range",
     "output_type": "error",
     "traceback": [
      "\u001b[0;31m---------------------------------------------------------------------------\u001b[0m",
      "\u001b[0;31mIndexError\u001b[0m                                Traceback (most recent call last)",
      "\u001b[1;32m/home/ahmedcr7/Programming/Python/AI_Projects/Tensorflow_Object_Detection/TFODCourse/1. Image Collection.ipynb Cell 10\u001b[0m line \u001b[0;36m2\n\u001b[1;32m     <a href='vscode-notebook-cell:/home/ahmedcr7/Programming/Python/AI_Projects/Tensorflow_Object_Detection/TFODCourse/1.%20Image%20Collection.ipynb#X12sZmlsZQ%3D%3D?line=21'>22</a>\u001b[0m         start \u001b[39m=\u001b[39m \u001b[39m1\u001b[39m\n\u001b[1;32m     <a href='vscode-notebook-cell:/home/ahmedcr7/Programming/Python/AI_Projects/Tensorflow_Object_Detection/TFODCourse/1.%20Image%20Collection.ipynb#X12sZmlsZQ%3D%3D?line=22'>23</a>\u001b[0m         idx \u001b[39m+\u001b[39m\u001b[39m=\u001b[39m \u001b[39m1\u001b[39m\n\u001b[0;32m---> <a href='vscode-notebook-cell:/home/ahmedcr7/Programming/Python/AI_Projects/Tensorflow_Object_Detection/TFODCourse/1.%20Image%20Collection.ipynb#X12sZmlsZQ%3D%3D?line=24'>25</a>\u001b[0m     \u001b[39mprint\u001b[39m(\u001b[39mf\u001b[39m\u001b[39m'\u001b[39m\u001b[39mImage #\u001b[39m\u001b[39m{\u001b[39;00mcounter\u001b[39m}\u001b[39;00m\u001b[39m for label \u001b[39m\u001b[39m\"\u001b[39m\u001b[39m{\u001b[39;00mlabels[idx]\u001b[39m}\u001b[39;00m\u001b[39m\"\u001b[39m\u001b[39m has been created successfully.\u001b[39m\u001b[39m'\u001b[39m)\n\u001b[1;32m     <a href='vscode-notebook-cell:/home/ahmedcr7/Programming/Python/AI_Projects/Tensorflow_Object_Detection/TFODCourse/1.%20Image%20Collection.ipynb#X12sZmlsZQ%3D%3D?line=26'>27</a>\u001b[0m \u001b[39mif\u001b[39;00m cv2\u001b[39m.\u001b[39mwaitKey(\u001b[39m1\u001b[39m) \u001b[39m==\u001b[39m \u001b[39mord\u001b[39m(\u001b[39m'\u001b[39m\u001b[39mq\u001b[39m\u001b[39m'\u001b[39m):\n\u001b[1;32m     <a href='vscode-notebook-cell:/home/ahmedcr7/Programming/Python/AI_Projects/Tensorflow_Object_Detection/TFODCourse/1.%20Image%20Collection.ipynb#X12sZmlsZQ%3D%3D?line=27'>28</a>\u001b[0m     \u001b[39mbreak\u001b[39;00m\n",
      "\u001b[0;31mIndexError\u001b[0m: list index out of range"
     ]
    },
    {
     "ename": "",
     "evalue": "",
     "output_type": "error",
     "traceback": [
      "\u001b[1;31mThe Kernel crashed while executing code in the the current cell or a previous cell. Please review the code in the cell(s) to identify a possible cause of the failure. Click <a href='https://aka.ms/vscodeJupyterKernelCrash'>here</a> for more info. View Jupyter <a href='command:jupyter.viewOutput'>log</a> for further details."
     ]
    }
   ],
   "source": [
    "counter = 0\n",
    "start = 1\n",
    "idx = 0\n",
    "\n",
    "cap = cv2.VideoCapture(0)\n",
    "\n",
    "while idx < len(labels):\n",
    "    ret, frame = cap.read()\n",
    "    cv2.imshow('frame', frame)\n",
    "    \n",
    "    if start:\n",
    "        start = 0\n",
    "        print('Collecting images for {}'.format(labels[idx]))\n",
    "\n",
    "    if cv2.waitKey(1) == ord('s'):\n",
    "        IMG_PATH = os.path.join(IMAGES_PATH,labels[idx],labels[idx]+'.'+'{}.jpg'.format(str(uuid.uuid1())))\n",
    "        cv2.imwrite(IMG_PATH, frame)\n",
    "        \n",
    "        print(f'Image #{counter} for label \"{labels[idx]}\" has been created successfully.')\n",
    "        counter += 1\n",
    "        if counter == number_imgs:\n",
    "            counter = 0\n",
    "            start = 1\n",
    "            idx += 1\n",
    "        \n",
    "    \n",
    "    if cv2.waitKey(1) == ord('q'):\n",
    "        break\n",
    "\n",
    "cap.release()\n",
    "cv2.destroyAllWindows()"
   ]
  },
  {
   "cell_type": "markdown",
   "metadata": {},
   "source": [
    "# 5. Image Labelling"
   ]
  },
  {
   "cell_type": "code",
   "execution_count": 10,
   "metadata": {},
   "outputs": [
    {
     "name": "stdout",
     "output_type": "stream",
     "text": [
      "Collecting pyqt5\n",
      "  Using cached PyQt5-5.15.4-cp36.cp37.cp38.cp39-none-win_amd64.whl (6.8 MB)\n",
      "Collecting lxml\n",
      "  Using cached lxml-4.6.3-cp37-cp37m-win_amd64.whl (3.5 MB)\n",
      "Collecting PyQt5-sip<13,>=12.8\n",
      "  Using cached PyQt5_sip-12.8.1-cp37-cp37m-win_amd64.whl (62 kB)\n",
      "Collecting PyQt5-Qt5>=5.15\n",
      "  Using cached PyQt5_Qt5-5.15.2-py3-none-win_amd64.whl (50.1 MB)\n",
      "Installing collected packages: PyQt5-sip, PyQt5-Qt5, pyqt5, lxml\n",
      "Successfully installed PyQt5-Qt5-5.15.2 PyQt5-sip-12.8.1 lxml-4.6.3 pyqt5-5.15.4\n"
     ]
    }
   ],
   "source": [
    "!pip install --upgrade pyqt5 lxml"
   ]
  },
  {
   "cell_type": "code",
   "execution_count": 11,
   "metadata": {},
   "outputs": [],
   "source": [
    "LABELIMG_PATH = os.path.join('Tensorflow', 'labelimg')"
   ]
  },
  {
   "cell_type": "code",
   "execution_count": 12,
   "metadata": {},
   "outputs": [
    {
     "name": "stderr",
     "output_type": "stream",
     "text": [
      "Cloning into 'Tensorflow\\labelimg'...\n"
     ]
    }
   ],
   "source": [
    "if not os.path.exists(LABELIMG_PATH):\n",
    "    !mkdir {LABELIMG_PATH}\n",
    "    !git clone https://github.com/tzutalin/labelImg {LABELIMG_PATH}"
   ]
  },
  {
   "cell_type": "code",
   "execution_count": 13,
   "metadata": {},
   "outputs": [],
   "source": [
    "if os.name == 'posix':\n",
    "    !make qt5py3\n",
    "if os.name =='nt':\n",
    "    !cd {LABELIMG_PATH} && pyrcc5 -o libs/resources.py resources.qrc"
   ]
  },
  {
   "cell_type": "code",
   "execution_count": 19,
   "metadata": {},
   "outputs": [
    {
     "name": "stdout",
     "output_type": "stream",
     "text": [
      "Image:D:\\YouTube\\OD\\TFODCourse\\Tensorflow\\workspace\\images\\collectedimages\\thumbsup\\thumbsup.6a706a36-940f-11eb-b4eb-5cf3709bbcc6.jpg -> Annotation:D:/YouTube/OD/TFODCourse/Tensorflow/workspace/images/collectedimages/thumbsup/thumbsup.6a706a36-940f-11eb-b4eb-5cf3709bbcc6.xml\n",
      "Image:D:\\YouTube\\OD\\TFODCourse\\Tensorflow\\workspace\\images\\collectedimages\\thumbsup\\thumbsup.6ba4d864-940f-11eb-8c74-5cf3709bbcc6.jpg -> Annotation:D:/YouTube/OD/TFODCourse/Tensorflow/workspace/images/collectedimages/thumbsup/thumbsup.6ba4d864-940f-11eb-8c74-5cf3709bbcc6.xml\n",
      "Image:D:\\YouTube\\OD\\TFODCourse\\Tensorflow\\workspace\\images\\collectedimages\\thumbsup\\thumbsup.6cd9c8e2-940f-11eb-b901-5cf3709bbcc6.jpg -> Annotation:D:/YouTube/OD/TFODCourse/Tensorflow/workspace/images/collectedimages/thumbsup/thumbsup.6cd9c8e2-940f-11eb-b901-5cf3709bbcc6.xml\n",
      "Image:D:\\YouTube\\OD\\TFODCourse\\Tensorflow\\workspace\\images\\collectedimages\\thumbsup\\thumbsup.6e0f5bc0-940f-11eb-8d18-5cf3709bbcc6.jpg -> Annotation:D:/YouTube/OD/TFODCourse/Tensorflow/workspace/images/collectedimages/thumbsup/thumbsup.6e0f5bc0-940f-11eb-8d18-5cf3709bbcc6.xml\n",
      "Image:D:\\YouTube\\OD\\TFODCourse\\Tensorflow\\workspace\\images\\collectedimages\\thumbsup\\thumbsup.693a5158-940f-11eb-8752-5cf3709bbcc6.jpg -> Annotation:D:/YouTube/OD/TFODCourse/Tensorflow/workspace/images/collectedimages/thumbsup/thumbsup.693a5158-940f-11eb-8752-5cf3709bbcc6.xml\n"
     ]
    }
   ],
   "source": [
    "!cd {LABELIMG_PATH} && python labelImg.py"
   ]
  },
  {
   "cell_type": "markdown",
   "metadata": {},
   "source": [
    "# 6. Move them into a Training and Testing Partition"
   ]
  },
  {
   "cell_type": "markdown",
   "metadata": {},
   "source": [
    "# OPTIONAL - 7. Compress them for Colab Training"
   ]
  },
  {
   "cell_type": "code",
   "execution_count": 20,
   "metadata": {},
   "outputs": [],
   "source": [
    "TRAIN_PATH = os.path.join('Tensorflow', 'workspace', 'images', 'train')\n",
    "TEST_PATH = os.path.join('Tensorflow', 'workspace', 'images', 'test')\n",
    "ARCHIVE_PATH = os.path.join('Tensorflow', 'workspace', 'images', 'archive.tar.gz')"
   ]
  },
  {
   "cell_type": "code",
   "execution_count": 21,
   "metadata": {},
   "outputs": [],
   "source": [
    "!tar -czf {ARCHIVE_PATH} {TRAIN_PATH} {TEST_PATH}"
   ]
  },
  {
   "cell_type": "code",
   "execution_count": null,
   "metadata": {},
   "outputs": [],
   "source": []
  }
 ],
 "metadata": {
  "kernelspec": {
   "display_name": "env",
   "language": "python",
   "name": "python3"
  },
  "language_info": {
   "codemirror_mode": {
    "name": "ipython",
    "version": 3
   },
   "file_extension": ".py",
   "mimetype": "text/x-python",
   "name": "python",
   "nbconvert_exporter": "python",
   "pygments_lexer": "ipython3",
   "version": "3.11.6"
  }
 },
 "nbformat": 4,
 "nbformat_minor": 2
}
